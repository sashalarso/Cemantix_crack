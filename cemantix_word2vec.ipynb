{
 "cells": [
  {
   "cell_type": "code",
   "execution_count": 1,
   "metadata": {},
   "outputs": [],
   "source": [
    "from gensim.models import KeyedVectors\n",
    "import requests\n",
    "model = KeyedVectors.load_word2vec_format(\"frWac_no_postag_no_phrase_500_skip_cut100.bin\", binary=True, unicode_errors=\"ignore\")\n",
    "\n"
   ]
  },
  {
   "cell_type": "code",
   "execution_count": 3,
   "metadata": {},
   "outputs": [
    {
     "name": "stdout",
     "output_type": "stream",
     "text": [
      "0\n",
      "max partiel : 0.1767 mot : politique\n",
      "max partiel : 0.3093 mot : débat\n",
      "max partiel : 0.3152 mot : discours\n",
      "1\n",
      "max partiel : 0.3373 mot : parole\n",
      "max partiel : 0.3396 mot : propos\n",
      "2\n",
      "max partiel : 0.3797 mot : entendre\n",
      "max partiel : 0.4393 mot : évoquer\n",
      "3\n",
      "max partiel : 1.0 mot : écho\n",
      "Le mot est trouvé c'est : écho\n"
     ]
    }
   ],
   "source": [
    "max_score=0\n",
    "word=\"politique\"\n",
    "i=0\n",
    "finded=False\n",
    "while finded!=True:\n",
    "    resp =requests.post(\"https://cemantix.certitudes.org/score\",data={\"word\":word}).json()\n",
    "    print(i)\n",
    "    if \"score\" in resp:\n",
    "        if resp[\"score\"]>max_score:\n",
    "            max_score=resp[\"score\"]\n",
    "            print(\"max partiel : \" + str(resp[\"score\"]) + \" mot : \" + word)\n",
    "        if resp[\"score\"]>0.995:\n",
    "            print(\"Le mot est trouvé c'est : \" + word)\n",
    "            \n",
    "    words=model.most_similar(word,topn=200)\n",
    "    for similar in words:\n",
    "        resp =requests.post(\"https://cemantix.certitudes.org/score\",data={\"word\":similar[0]}).json()\n",
    "        if \"score\" in resp:\n",
    "            if resp[\"score\"]>max_score:\n",
    "                max_score=resp[\"score\"]\n",
    "                print(\"max partiel : \" + str(resp[\"score\"]) + \" mot : \" + similar[0])\n",
    "                word=similar[0]\n",
    "            if resp[\"score\"]>0.995:\n",
    "                print(\"Le mot est trouvé c'est : \" + similar[0])\n",
    "                finded=True\n",
    "    i+=1\n",
    " "
   ]
  }
 ],
 "metadata": {
  "kernelspec": {
   "display_name": "Python 3",
   "language": "python",
   "name": "python3"
  },
  "language_info": {
   "codemirror_mode": {
    "name": "ipython",
    "version": 3
   },
   "file_extension": ".py",
   "mimetype": "text/x-python",
   "name": "python",
   "nbconvert_exporter": "python",
   "pygments_lexer": "ipython3",
   "version": "3.9.12"
  },
  "orig_nbformat": 4
 },
 "nbformat": 4,
 "nbformat_minor": 2
}
